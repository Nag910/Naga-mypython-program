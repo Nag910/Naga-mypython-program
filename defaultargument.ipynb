{
  "nbformat": 4,
  "nbformat_minor": 0,
  "metadata": {
    "colab": {
      "provenance": []
    },
    "kernelspec": {
      "name": "python3",
      "display_name": "Python 3"
    },
    "language_info": {
      "name": "python"
    }
  },
  "cells": [
    {
      "source": [
        "def greet(name, greeting=\"Hello\"):\n",
        "\n",
        "  print(f\"{greeting}, {name}!\")\n",
        "\n",
        "\n",
        "greet(\"nagashree\")\n",
        "greet(\"sanjana\", \"Hi there\")"
      ],
      "cell_type": "code",
      "metadata": {
        "colab": {
          "base_uri": "https://localhost:8080/"
        },
        "id": "q-RNU9S_pu66",
        "outputId": "23df9671-7e91-4d8f-c3e7-a29337c628b0"
      },
      "execution_count": 18,
      "outputs": [
        {
          "output_type": "stream",
          "name": "stdout",
          "text": [
            "Hello, nagashree!\n",
            "Hi there, sanjana!\n"
          ]
        }
      ]
    }
  ]
}