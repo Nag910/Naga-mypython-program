{
  "nbformat": 4,
  "nbformat_minor": 0,
  "metadata": {
    "colab": {
      "provenance": []
    },
    "kernelspec": {
      "name": "python3",
      "display_name": "Python 3"
    },
    "language_info": {
      "name": "python"
    }
  },
  "cells": [
    {
      "source": [
        "\n",
        "def count_digits(number):\n",
        "    \"\"\"Counts the number of digits in a given integer.\n",
        "\n",
        "    Args:\n",
        "        number: The integer to count the digits of.\n",
        "\n",
        "    Returns:\n",
        "        The number of digits in the integer.\n",
        "    \"\"\"\n",
        "    # Convert the number to a string and get its length.\n",
        "    num_str = str(number)\n",
        "    num_digits = len(num_str)\n",
        "    # Handle negative numbers.\n",
        "    if number < 0:\n",
        "      num_digits -= 1  # Subtract 1 to exclude the negative sign.\n",
        "\n",
        "    return num_digits\n",
        "\n",
        "\n",
        "# Get input from the user.\n",
        "number = int(input(\"Enter an integer: \"))\n",
        "\n",
        "# Count the digits and print the result.\n",
        "num_digits = count_digits(number)\n",
        "print(\"The number of digits in\", number, \"is\", num_digits)"
      ],
      "cell_type": "code",
      "metadata": {
        "colab": {
          "base_uri": "https://localhost:8080/"
        },
        "id": "i8t9hrxsA_HQ",
        "outputId": "84350f44-6b46-4655-e878-6aff7afd0429"
      },
      "execution_count": 13,
      "outputs": [
        {
          "output_type": "stream",
          "name": "stdout",
          "text": [
            "Enter an integer: 11\n",
            "The number of digits in 11 is 2\n"
          ]
        }
      ]
    }
  ]
}