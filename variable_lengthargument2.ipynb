{
  "nbformat": 4,
  "nbformat_minor": 0,
  "metadata": {
    "colab": {
      "provenance": []
    },
    "kernelspec": {
      "name": "python3",
      "display_name": "Python 3"
    },
    "language_info": {
      "name": "python"
    }
  },
  "cells": [
    {
      "source": [
        "def greet(*names):\n",
        "  \"\"\"Greets all people in the names tuple.\"\"\"\n",
        "  for name in names:\n",
        "    print(f\"I love you, {name}!\")\n",
        "\n",
        "\n",
        "greet(\"nagashree\", \"sanjana\", \"pooja\")\n",
        "greet(\"likitha\", \"lonika\")"
      ],
      "cell_type": "code",
      "metadata": {
        "colab": {
          "base_uri": "https://localhost:8080/"
        },
        "id": "_-IxywkZq0oA",
        "outputId": "c8ae16f0-6e5a-415a-93ed-93e977f60ddd"
      },
      "execution_count": 21,
      "outputs": [
        {
          "output_type": "stream",
          "name": "stdout",
          "text": [
            "I love you, nagashree!\n",
            "I love you, sanjana!\n",
            "I love you, pooja!\n",
            "I love you, likitha!\n",
            "I love you, lonika!\n"
          ]
        }
      ]
    }
  ]
}