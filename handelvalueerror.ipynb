{
  "nbformat": 4,
  "nbformat_minor": 0,
  "metadata": {
    "colab": {
      "provenance": []
    },
    "kernelspec": {
      "name": "python3",
      "display_name": "Python 3"
    },
    "language_info": {
      "name": "python"
    }
  },
  "cells": [
    {
      "source": [
        "def handle_value_error():\n",
        "    \"\"\"Handles ValueError when the user enters a non-numeric input.\"\"\"\n",
        "    try:\n",
        "        number = int(input(\"Enter a number: \"))\n",
        "        print(f\"You entered: {number}\")\n",
        "    except ValueError:\n",
        "        print(\"Error: Invalid input. Please enter a valid number.\")\n",
        "    except Exception as e:\n",
        "        print(f\"An error occurred: {e}\")\n",
        "\n",
        "# Get input and handle potential errors\n",
        "handle_value_error()"
      ],
      "cell_type": "code",
      "metadata": {
        "colab": {
          "base_uri": "https://localhost:8080/"
        },
        "id": "0naP3sZqlf8U",
        "outputId": "9b30cf19-6ec7-41c2-a752-4678bfd0f740"
      },
      "execution_count": 16,
      "outputs": [
        {
          "output_type": "stream",
          "name": "stdout",
          "text": [
            "Enter a number: 1\n",
            "You entered: 1\n"
          ]
        }
      ]
    }
  ]
}