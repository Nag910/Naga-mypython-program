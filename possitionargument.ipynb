{
  "nbformat": 4,
  "nbformat_minor": 0,
  "metadata": {
    "colab": {
      "provenance": []
    },
    "kernelspec": {
      "name": "python3",
      "display_name": "Python 3"
    },
    "language_info": {
      "name": "python"
    }
  },
  "cells": [
    {
      "cell_type": "code",
      "source": [],
      "metadata": {
        "id": "NI5C-JlWne1a"
      },
      "execution_count": null,
      "outputs": []
    },
    {
      "source": [
        "def greet(name, greeting):\n",
        "\n",
        "  print(f\"{greeting}, {name}!\")\n",
        "\n",
        "\n",
        "greet(\"Alice\", \"Hello\")\n",
        "greet(\"Bob\", \"Hi there\")"
      ],
      "cell_type": "code",
      "metadata": {
        "colab": {
          "base_uri": "https://localhost:8080/"
        },
        "id": "LdY0ARNbpBni",
        "outputId": "b98b720a-d848-43f0-c094-56f1621d6bd3"
      },
      "execution_count": 17,
      "outputs": [
        {
          "output_type": "stream",
          "name": "stdout",
          "text": [
            "Hello, Alice!\n",
            "Hi there, Bob!\n"
          ]
        }
      ]
    }
  ]
}