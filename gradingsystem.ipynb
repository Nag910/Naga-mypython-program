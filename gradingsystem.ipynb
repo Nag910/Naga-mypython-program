{
  "nbformat": 4,
  "nbformat_minor": 0,
  "metadata": {
    "colab": {
      "provenance": []
    },
    "kernelspec": {
      "name": "python3",
      "display_name": "Python 3"
    },
    "language_info": {
      "name": "python"
    }
  },
  "cells": [
    {
      "source": [
        "def calculate_grade(marks):\n",
        "    if marks >= 90:\n",
        "        return \"A\"\n",
        "    elif marks >= 75:\n",
        "        return \"B\"\n",
        "    elif marks >= 50:\n",
        "        return \"C\"\n",
        "    else:\n",
        "        return \"F\"\n",
        "\n",
        "\n",
        "marks = float(input(\"Enter the student's marks: \"))\n",
        "\n",
        "\n",
        "grade = calculate_grade(marks)\n",
        "print(\"Grade:\", grade)"
      ],
      "cell_type": "code",
      "metadata": {
        "colab": {
          "base_uri": "https://localhost:8080/"
        },
        "id": "LRDS61uK8GKT",
        "outputId": "735bfd23-e0eb-4e67-eb4c-1082bd66b9e3"
      },
      "execution_count": 1,
      "outputs": [
        {
          "output_type": "stream",
          "name": "stdout",
          "text": [
            "Enter the student's marks: 84\n",
            "Grade: B\n"
          ]
        }
      ]
    }
  ]
}