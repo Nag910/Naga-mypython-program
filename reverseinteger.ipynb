{
  "nbformat": 4,
  "nbformat_minor": 0,
  "metadata": {
    "colab": {
      "provenance": []
    },
    "kernelspec": {
      "name": "python3",
      "display_name": "Python 3"
    },
    "language_info": {
      "name": "python"
    }
  },
  "cells": [
    {
      "source": [
        "def reverse_integer(number):\n",
        "\n",
        "    sign = -1 if number < 0 else 1\n",
        "    number = abs(number)\n",
        "    reversed_number = 0\n",
        "    while number > 0:\n",
        "        digit = number % 10\n",
        "        reversed_number = reversed_number * 10 + digit\n",
        "        number //= 10\n",
        "    return sign * reversed_number\n",
        "\n",
        "\n",
        "number = int(input(\"Enter an integer: \"))\n",
        "\n",
        "\n",
        "reversed_number = reverse_integer(number)\n",
        "print(\"Reversed number:\", reversed_number)"
      ],
      "cell_type": "code",
      "metadata": {
        "colab": {
          "base_uri": "https://localhost:8080/"
        },
        "id": "-7htME0ywQet",
        "outputId": "6dcc7dca-1f26-43e4-a852-e14bb216beea"
      },
      "execution_count": 24,
      "outputs": [
        {
          "output_type": "stream",
          "name": "stdout",
          "text": [
            "Enter an integer: 6\n",
            "Reversed number: 6\n"
          ]
        }
      ]
    }
  ]
}