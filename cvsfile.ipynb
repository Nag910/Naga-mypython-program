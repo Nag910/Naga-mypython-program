{
  "nbformat": 4,
  "nbformat_minor": 0,
  "metadata": {
    "colab": {
      "provenance": []
    },
    "kernelspec": {
      "name": "python3",
      "display_name": "Python 3"
    },
    "language_info": {
      "name": "python"
    }
  },
  "cells": [
    {
      "source": [
        "import csv\n",
        "\n",
        "def write_csv_file(file_path, data):\n",
        "    \"\"\"Creates a CSV file and writes data to it.\"\"\"\n",
        "    try:\n",
        "        with open(file_path, 'w', newline='') as csvfile:\n",
        "            writer = csv.writer(csvfile)\n",
        "            writer.writerows(data)  # Write data rows\n",
        "        print(f\"CSV data written to '{file_path}' successfully.\")\n",
        "    except Exception as e:\n",
        "        print(f\"An error occurred: {e}\")\n",
        "\n",
        "# Example data:\n",
        "data = [\n",
        "    [\"Name\", \"Age\", \"City\"],\n",
        "    [\"Alice\", 30, \"New York\"],\n",
        "    [\"Bob\", 25, \"London\"],\n",
        "]\n",
        "\n",
        "# Example usage:\n",
        "file_path = \"data.csv\"  # Replace with your desired file path\n",
        "\n",
        "write_csv_file(file_path, data)"
      ],
      "cell_type": "code",
      "metadata": {
        "id": "od74DvysqXlP"
      },
      "execution_count": null,
      "outputs": []
    }
  ]
}