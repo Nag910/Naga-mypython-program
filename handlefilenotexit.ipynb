{
  "nbformat": 4,
  "nbformat_minor": 0,
  "metadata": {
    "colab": {
      "provenance": []
    },
    "kernelspec": {
      "name": "python3",
      "display_name": "Python 3"
    },
    "language_info": {
      "name": "python"
    }
  },
  "cells": [
    {
      "source": [
        "def handle_file_not_found(file_path):\n",
        "    \"\"\"Handles FileNotFoundError when trying to open a non-existing file.\"\"\"\n",
        "    try:\n",
        "        with open(file_path, 'r') as file:\n",
        "            # Process the file here\n",
        "            pass  # Placeholder for file processing\n",
        "    except FileNotFoundError:\n",
        "        print(f\"Error: File '{file_path}' not found.\")\n",
        "    except Exception as e:\n",
        "        print(f\"An error occurred: {e}\")\n",
        "\n",
        "# Get the file path from the user\n",
        "file_path = input(\"Enter the path to the file: \")\n",
        "\n",
        "# Attempt to open and process the file\n",
        "handle_file_not_found(file_path)"
      ],
      "cell_type": "code",
      "metadata": {
        "colab": {
          "base_uri": "https://localhost:8080/"
        },
        "id": "OXEHjuNQlHd9",
        "outputId": "29efe808-0153-4c34-c054-06b3b312b36e"
      },
      "execution_count": 14,
      "outputs": [
        {
          "output_type": "stream",
          "name": "stdout",
          "text": [
            "Enter the path to the file: 4\n",
            "Error: File '4' not found.\n"
          ]
        }
      ]
    }
  ]
}