{
  "nbformat": 4,
  "nbformat_minor": 0,
  "metadata": {
    "colab": {
      "provenance": []
    },
    "kernelspec": {
      "name": "python3",
      "display_name": "Python 3"
    },
    "language_info": {
      "name": "python"
    }
  },
  "cells": [
    {
      "cell_type": "code",
      "source": [
        "print(\"Hello,python!\")\n",
        "print(\"name:nagashree\")\n",
        "print(\"rollno:19\")"
      ],
      "metadata": {
        "colab": {
          "base_uri": "https://localhost:8080/"
        },
        "id": "fATd0EILkqYP",
        "outputId": "87560973-5468-4303-99c9-fec1a03f8f1a"
      },
      "execution_count": 4,
      "outputs": [
        {
          "output_type": "stream",
          "name": "stdout",
          "text": [
            "Hello,python!\n",
            "name:nagashree\n",
            "rollno:19\n"
          ]
        }
      ]
    }
  ]
}