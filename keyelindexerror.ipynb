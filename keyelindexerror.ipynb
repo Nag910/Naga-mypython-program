{
  "nbformat": 4,
  "nbformat_minor": 0,
  "metadata": {
    "colab": {
      "provenance": []
    },
    "kernelspec": {
      "name": "python3",
      "display_name": "Python 3"
    },
    "language_info": {
      "name": "python"
    }
  },
  "cells": [
    {
      "source": [
        "def handle_key_error(data, key):\n",
        "    \"\"\"Handles KeyError when trying to access a non-existent key in a dictionary.\"\"\"\n",
        "    try:\n",
        "        value = data[key]\n",
        "        print(f\"Value for key '{key}': {value}\")\n",
        "    except KeyError:\n",
        "        print(f\"Error: Key '{key}' not found in the dictionary.\")\n",
        "    except Exception as e:\n",
        "        print(f\"An error occurred: {e}\")\n",
        "\n",
        "# Example usage:\n",
        "data = {\"name\": \"Alice\", \"age\": 30}\n",
        "key = \"city\"  # Non-existent key\n",
        "\n",
        "handle_key_error(data, key)"
      ],
      "cell_type": "code",
      "metadata": {
        "colab": {
          "base_uri": "https://localhost:8080/"
        },
        "id": "gdU2pOfSqsnU",
        "outputId": "08c827a9-c908-4bbd-defc-41b9ed9bc344"
      },
      "execution_count": 25,
      "outputs": [
        {
          "output_type": "stream",
          "name": "stdout",
          "text": [
            "Error: Key 'city' not found in the dictionary.\n"
          ]
        }
      ]
    }
  ]
}