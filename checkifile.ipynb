{
  "nbformat": 4,
  "nbformat_minor": 0,
  "metadata": {
    "colab": {
      "provenance": []
    },
    "kernelspec": {
      "name": "python3",
      "display_name": "Python 3"
    },
    "language_info": {
      "name": "python"
    }
  },
  "cells": [
    {
      "source": [
        "import os\n",
        "\n",
        "def check_file_exists(file_path):\n",
        "    \"\"\"Checks if a file exists.\"\"\"\n",
        "    if os.path.exists(file_path):\n",
        "        print(f\"File '{file_path}' exists.\")\n",
        "    else:\n",
        "        print(f\"File '{file_path}' does not exist.\")\n",
        "\n",
        "# Get the file path from the user\n",
        "file_path = input(\"Enter the path to the file: \")\n",
        "\n",
        "# Check if the file exists\n",
        "check_file_exists(file_path)"
      ],
      "cell_type": "code",
      "metadata": {
        "colab": {
          "base_uri": "https://localhost:8080/"
        },
        "id": "hv2yF2Fxkypt",
        "outputId": "417318b8-1b4d-459a-838e-4d1dbde632ea"
      },
      "execution_count": 13,
      "outputs": [
        {
          "output_type": "stream",
          "name": "stdout",
          "text": [
            "Enter the path to the file: 4\n",
            "File '4' does not exist.\n"
          ]
        }
      ]
    }
  ]
}