{
  "nbformat": 4,
  "nbformat_minor": 0,
  "metadata": {
    "colab": {
      "provenance": []
    },
    "kernelspec": {
      "name": "python3",
      "display_name": "Python 3"
    },
    "language_info": {
      "name": "python"
    }
  },
  "cells": [
    {
      "source": [
        "def gcd(a, b):\n",
        "\n",
        "  while b:\n",
        "    a, b = b, a % b\n",
        "  return a\n",
        "\n",
        "def lcm(a, b):\n",
        "\n",
        "  return (a * b) // gcd(a, b)\n",
        "\n",
        "\n",
        "num1 = int(input(\"Enter the first number: \"))\n",
        "num2 = int(input(\"Enter the second number: \"))\n",
        "\n",
        "\n",
        "result = lcm(num1, num2)\n",
        "\n",
        "\n",
        "print(\"The LCM of\", num1, \"and\", num2, \"is\", result)"
      ],
      "cell_type": "code",
      "metadata": {
        "colab": {
          "base_uri": "https://localhost:8080/"
        },
        "id": "ZslXW_o2JdA2",
        "outputId": "153833c8-8d9c-4322-ead5-b956b71efdff"
      },
      "execution_count": 31,
      "outputs": [
        {
          "output_type": "stream",
          "name": "stdout",
          "text": [
            "Enter the first number: 5\n",
            "Enter the second number: 9\n",
            "The LCM of 5 and 9 is 45\n"
          ]
        }
      ]
    }
  ]
}