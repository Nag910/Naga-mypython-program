{
  "nbformat": 4,
  "nbformat_minor": 0,
  "metadata": {
    "colab": {
      "provenance": []
    },
    "kernelspec": {
      "name": "python3",
      "display_name": "Python 3"
    },
    "language_info": {
      "name": "python"
    }
  },
  "cells": [
    {
      "source": [
        "import random\n",
        "\n",
        "\n",
        "secret_number = random.randint(1, 100)\n",
        "\n",
        "\n",
        "num_guesses = 0\n",
        "\n",
        "print(\"Welcome to the Number Guessing Game!\")\n",
        "\n",
        "\n",
        "while True:\n",
        "\n",
        "    guess = int(input(\"Guess a number between 1 and 100: \"))\n",
        "    num_guesses += 1\n",
        "\n",
        "\n",
        "    if guess == secret_number:\n",
        "        print(f\"Congratulations! You guessed the number in {num_guesses} guesses.\")\n",
        "        break\n",
        "\n",
        "    elif guess < secret_number:\n",
        "        print(\"Too low! Try again.\")\n",
        "    else:\n",
        "        print(\"Too high! Try again.\")"
      ],
      "cell_type": "code",
      "metadata": {
        "colab": {
          "base_uri": "https://localhost:8080/"
        },
        "id": "MbWOetLaEba2",
        "outputId": "639f96ef-d0e7-47e0-e411-aedd36fb7227"
      },
      "execution_count": null,
      "outputs": [
        {
          "output_type": "stream",
          "name": "stdout",
          "text": [
            "Welcome to the Number Guessing Game!\n",
            "Guess a number between 1 and 100: 90\n",
            "Too high! Try again.\n",
            "Guess a number between 1 and 100: 34\n",
            "Too low! Try again.\n",
            "Guess a number between 1 and 100: 57\n",
            "Too high! Try again.\n",
            "Guess a number between 1 and 100: 84\n",
            "Too high! Try again.\n",
            "Guess a number between 1 and 100: 11\n",
            "Too low! Try again.\n"
          ]
        }
      ]
    }
  ]
}