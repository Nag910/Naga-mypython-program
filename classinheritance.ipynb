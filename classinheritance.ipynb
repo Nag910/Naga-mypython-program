{
  "nbformat": 4,
  "nbformat_minor": 0,
  "metadata": {
    "colab": {
      "provenance": []
    },
    "kernelspec": {
      "name": "python3",
      "display_name": "Python 3"
    },
    "language_info": {
      "name": "python"
    }
  },
  "cells": [
    {
      "cell_type": "code",
      "execution_count": null,
      "metadata": {
        "id": "TlpWfTFXiBUx"
      },
      "outputs": [],
      "source": []
    },
    {
      "source": [
        "class Animal:\n",
        "    def __init__(self, name):\n",
        "        self.name = name\n",
        "\n",
        "    def speak(self):\n",
        "        print(\"Generic animal sound\")\n",
        "\n",
        "class Dog(Animal):\n",
        "    def __init__(self, name, breed):\n",
        "        super().__init__(name)  # Call the parent class's __init__\n",
        "        self.breed = breed\n",
        "\n",
        "    def bark(self):\n",
        "        print(\"Woof!\")\n",
        "\n",
        "# Create instances\n",
        "animal = Animal(\"Generic Animal\")\n",
        "dog = Dog(\"Buddy\", \"Golden Retriever\")\n",
        "\n",
        "# Call methods\n",
        "animal.speak()  # Output: Generic animal sound\n",
        "dog.speak()    # Output: Generic animal sound (inherited from Animal)\n",
        "dog.bark()     # Output: Woof! (specific to Dog)"
      ],
      "cell_type": "code",
      "metadata": {
        "colab": {
          "base_uri": "https://localhost:8080/"
        },
        "id": "sMXM7YbsiQIZ",
        "outputId": "9d9bae62-4ca1-4df1-b1cf-073338b36dca"
      },
      "execution_count": 1,
      "outputs": [
        {
          "output_type": "stream",
          "name": "stdout",
          "text": [
            "Generic animal sound\n",
            "Generic animal sound\n",
            "Woof!\n"
          ]
        }
      ]
    }
  ]
}