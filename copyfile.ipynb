{
  "nbformat": 4,
  "nbformat_minor": 0,
  "metadata": {
    "colab": {
      "provenance": []
    },
    "kernelspec": {
      "name": "python3",
      "display_name": "Python 3"
    },
    "language_info": {
      "name": "python"
    }
  },
  "cells": [
    {
      "source": [
        "def copy_file_contents(source_file, destination_file):\n",
        "    \"\"\"Copies the contents of one file to another.\n",
        "\n",
        "    Args:\n",
        "        source_file: The path to the source file.\n",
        "        destination_file: The path to the destination file.\n",
        "    \"\"\"\n",
        "    try:\n",
        "        with open(source_file, 'r') as source, open(destination_file, 'w') as destination:\n",
        "            destination.write(source.read())\n",
        "        print(f\"Contents of '{source_file}' copied to '{destination_file}' successfully.\")\n",
        "    except FileNotFoundError:\n",
        "        print(f\"Error: Source file '{source_file}' not found.\")\n",
        "    except Exception as e:\n",
        "        print(f\"An error occurred: {e}\")\n",
        "\n",
        "# Example usage:\n",
        "source_file = \"source.txt\"  # Replace with your source file path\n",
        "destination_file = \"destination.txt\"  # Replace with your destination file path\n",
        "\n",
        "copy_file_contents(source_file, destination_file)"
      ],
      "cell_type": "code",
      "metadata": {
        "colab": {
          "base_uri": "https://localhost:8080/"
        },
        "id": "XXd2GscXjR93",
        "outputId": "d8d4d29d-a91c-4042-d0e6-fd0c7a5730bf"
      },
      "execution_count": 5,
      "outputs": [
        {
          "output_type": "stream",
          "name": "stdout",
          "text": [
            "Error: Source file 'source.txt' not found.\n"
          ]
        }
      ]
    }
  ]
}