{
  "nbformat": 4,
  "nbformat_minor": 0,
  "metadata": {
    "colab": {
      "provenance": []
    },
    "kernelspec": {
      "name": "python3",
      "display_name": "Python 3"
    },
    "language_info": {
      "name": "python"
    }
  },
  "cells": [
    {
      "source": [
        "def pyramid_pattern(rows):\n",
        "    \"\"\"Prints a pyramid pattern with the given number of rows.\"\"\"\n",
        "    for i in range(rows):\n",
        "        # Print leading spaces\n",
        "        for j in range(rows - i - 1):\n",
        "\n",
        "            print(\" \", end=\"\")\n",
        "        # Print stars\n",
        "        for j in range(2 * i + 1):\n",
        "            print(\"*\", end=\"\")\n",
        "        # Move to the next line\n",
        "        print()\n",
        "\n",
        "def inverted_pyramid_pattern(rows):\n",
        "    \"\"\"Prints an inverted pyramid pattern with the given number of rows.\"\"\"\n",
        "    for i in range(rows):\n",
        "        # Print leading spaces\n",
        "        for j in range(i):\n",
        "            print(\" \", end=\"\")\n",
        "        # Print stars\n",
        "        for j in range(2 * (rows - i) - 1):\n",
        "            print(\"*\", end=\"\")\n",
        "        # Move to the next line\n",
        "        print()\n",
        "\n",
        "# Get the number of rows from the user\n",
        "rows = int(input(\"Enter the number of rows: \"))\n",
        "\n",
        "# Print the pyramid pattern\n",
        "print(\"Pyramid Pattern:\")\n",
        "pyramid_pattern(rows)\n",
        "\n",
        "# Print the inverted pyramid pattern\n",
        "print(\"\\nInverted Pyramid Pattern:\")\n",
        "inverted_pyramid_pattern(rows)"
      ],
      "cell_type": "code",
      "metadata": {
        "colab": {
          "base_uri": "https://localhost:8080/"
        },
        "id": "CQVazFETHJpY",
        "outputId": "532aec4d-f3a6-49e3-ac16-2b81402eedd2"
      },
      "execution_count": 25,
      "outputs": [
        {
          "output_type": "stream",
          "name": "stdout",
          "text": [
            "Enter the number of rows: 8\n",
            "Pyramid Pattern:\n",
            "       *\n",
            "      ***\n",
            "     *****\n",
            "    *******\n",
            "   *********\n",
            "  ***********\n",
            " *************\n",
            "***************\n",
            "\n",
            "Inverted Pyramid Pattern:\n",
            "***************\n",
            " *************\n",
            "  ***********\n",
            "   *********\n",
            "    *******\n",
            "     *****\n",
            "      ***\n",
            "       *\n"
          ]
        }
      ]
    }
  ]
}