{
  "nbformat": 4,
  "nbformat_minor": 0,
  "metadata": {
    "colab": {
      "provenance": []
    },
    "kernelspec": {
      "name": "python3",
      "display_name": "Python 3"
    },
    "language_info": {
      "name": "python"
    }
  },
  "cells": [
    {
      "source": [
        "def handle_multiple_exceptions(file_path):\n",
        "    \"\"\"Handles both FileNotFoundError and ValueError.\"\"\"\n",
        "    try:\n",
        "        with open(file_path, 'r') as file:\n",
        "            number = int(file.readline())  # Attempt to read a number from the file\n",
        "            print(f\"Number read from file: {number}\")\n",
        "    except FileNotFoundError:\n",
        "        print(f\"Error: File '{file_path}' not found.\")\n",
        "    except ValueError:\n",
        "        print(\"Error: Invalid data in the file. Could not convert to an integer.\")\n",
        "    except Exception as e:\n",
        "        print(f\"An error occurred: {e}\")\n",
        "\n",
        "# Get the file path from the user\n",
        "file_path = input(\"Enter the path to the file: \")\n",
        "\n",
        "# Attempt to open the file and process data\n",
        "handle_multiple_exceptions(file_path)"
      ],
      "cell_type": "code",
      "metadata": {
        "colab": {
          "base_uri": "https://localhost:8080/"
        },
        "id": "platacvLltc_",
        "outputId": "a165807a-011a-4fc1-f4c6-4de07bc44659"
      },
      "execution_count": 17,
      "outputs": [
        {
          "output_type": "stream",
          "name": "stdout",
          "text": [
            "Enter the path to the file: 1\n",
            "Error: File '1' not found.\n"
          ]
        }
      ]
    }
  ]
}