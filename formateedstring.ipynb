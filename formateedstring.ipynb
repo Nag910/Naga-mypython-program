{
  "nbformat": 4,
  "nbformat_minor": 0,
  "metadata": {
    "colab": {
      "provenance": []
    },
    "kernelspec": {
      "name": "python3",
      "display_name": "Python 3"
    },
    "language_info": {
      "name": "python"
    }
  },
  "cells": [
    {
      "source": [
        "name = \"nagashree\"\n",
        "age = 19\n",
        "city = \"New York\"\n",
        "\n",
        "\n",
        "message = f\"Hello, my name is {name}. I am {age} years old and I live in {city}.\"\n",
        "\n",
        "print(message)"
      ],
      "cell_type": "code",
      "metadata": {
        "colab": {
          "base_uri": "https://localhost:8080/"
        },
        "id": "4YYHK4EcImAn",
        "outputId": "feb8dff7-71f3-4b20-b607-173c6a858432"
      },
      "execution_count": 3,
      "outputs": [
        {
          "output_type": "stream",
          "name": "stdout",
          "text": [
            "Hello, my name is nagashree. I am 19 years old and I live in New York.\n"
          ]
        }
      ]
    }
  ]
}