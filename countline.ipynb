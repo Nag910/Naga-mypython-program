{
  "nbformat": 4,
  "nbformat_minor": 0,
  "metadata": {
    "colab": {
      "provenance": []
    },
    "kernelspec": {
      "name": "python3",
      "display_name": "Python 3"
    },
    "language_info": {
      "name": "python"
    }
  },
  "cells": [
    {
      "source": [
        "def count_lines(file_path):\n",
        "    \"\"\"Counts the number of lines in a file.\n",
        "\n",
        "    Args:\n",
        "        file_path: The path to the file.\n",
        "\n",
        "    Returns:\n",
        "        The number of lines in the file, or -1 if an error occurred.\n",
        "    \"\"\"\n",
        "    try:\n",
        "        with open(file_path, 'r') as file:\n",
        "            line_count = sum(1 for line in file)\n",
        "        return line_count\n",
        "    except FileNotFoundError:\n",
        "        print(f\"Error: File '{file_path}' not found.\")\n",
        "        return -1\n",
        "    except Exception as e:\n",
        "        print(f\"An error occurred: {e}\")\n",
        "        return -1\n",
        "\n",
        "# Get the file path from the user\n",
        "file_path = input(\"Enter the path to the file: \")\n",
        "\n",
        "# Count the lines in the file\n",
        "line_count = count_lines(file_path)\n",
        "\n",
        "# Print"
      ],
      "cell_type": "code",
      "metadata": {
        "colab": {
          "base_uri": "https://localhost:8080/"
        },
        "id": "niNgmxgdjiCw",
        "outputId": "651a9462-4ab2-4256-a7a0-709e4053f34f"
      },
      "execution_count": 8,
      "outputs": [
        {
          "output_type": "stream",
          "name": "stdout",
          "text": [
            "Enter the path to the file: 1\n",
            "Error: File '1' not found.\n"
          ]
        }
      ]
    }
  ]
}