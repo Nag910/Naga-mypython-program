{
  "nbformat": 4,
  "nbformat_minor": 0,
  "metadata": {
    "colab": {
      "provenance": [],
      "toc_visible": true
    },
    "kernelspec": {
      "name": "python3",
      "display_name": "Python 3"
    },
    "language_info": {
      "name": "python"
    }
  },
  "cells": [
    {
      "cell_type": "code",
      "source": [
        "a=int(input(\"enter start range\"))\n",
        "b=int(input(\"enter end range\"))\n",
        "for i in range(a,b+1):\n",
        "  fact=1\n",
        "  fact=fact*i\n",
        "  i=i+1\n",
        "print(fact)\n"
      ],
      "metadata": {
        "colab": {
          "base_uri": "https://localhost:8080/"
        },
        "id": "wg39nO0pnjJ2",
        "outputId": "69512a02-e75d-4de4-bc2b-b10d82df34d8"
      },
      "execution_count": 13,
      "outputs": [
        {
          "output_type": "stream",
          "name": "stdout",
          "text": [
            "enter start range1\n",
            "enter end range4\n",
            "4\n"
          ]
        }
      ]
    }
  ]
}