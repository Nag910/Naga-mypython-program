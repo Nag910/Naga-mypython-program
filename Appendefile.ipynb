{
  "nbformat": 4,
  "nbformat_minor": 0,
  "metadata": {
    "colab": {
      "provenance": []
    },
    "kernelspec": {
      "name": "python3",
      "display_name": "Python 3"
    },
    "language_info": {
      "name": "python"
    }
  },
  "cells": [
    {
      "source": [
        "def append_to_file(file_path, text_to_append):\n",
        "\n",
        "    try:\n",
        "        with open(file_path, 'a') as file:  # Open in append mode ('a')\n",
        "            file.write(text_to_append)\n",
        "        print(f\"Text appended to '{file_path}' successfully.\")\n",
        "    except FileNotFoundError:\n",
        "        print(f\"Error: File '{file_path}' not found.\")\n",
        "    except Exception as e:\n",
        "        print(f\"An error occurred: {e}\")\n",
        "\n",
        "\n",
        "# Example usage:\n",
        "file_path = \"my_file.txt\"  # Replace with your file path\n",
        "text_to_append = \"\\nThis is some text to append.\"\n",
        "\n",
        "append_to_file(file_path, text_to_append)"
      ],
      "cell_type": "code",
      "metadata": {
        "colab": {
          "base_uri": "https://localhost:8080/"
        },
        "id": "8bGGmdAxicWp",
        "outputId": "38093346-4d1c-4b0d-9438-00cd89429a73"
      },
      "execution_count": 1,
      "outputs": [
        {
          "output_type": "stream",
          "name": "stdout",
          "text": [
            "Text appended to 'my_file.txt' successfully.\n"
          ]
        }
      ]
    }
  ]
}