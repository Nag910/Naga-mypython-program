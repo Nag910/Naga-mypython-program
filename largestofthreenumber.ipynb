{
  "nbformat": 4,
  "nbformat_minor": 0,
  "metadata": {
    "colab": {
      "provenance": [],
      "toc_visible": true
    },
    "kernelspec": {
      "name": "python3",
      "display_name": "Python 3"
    },
    "language_info": {
      "name": "python"
    }
  },
  "cells": [
    {
      "cell_type": "code",
      "source": [
        "a=float(input(\"Enter first number:\"))\n",
        "b=float(input(\"Enter second number:\"))\n",
        "c=float(input(\"Enter third number:\"))\n",
        "if a>b and a>c:\n",
        "  print(a,\"is largest\")\n",
        "  if b>a and b>c:\n",
        "    print(b,\"is largest\")\n",
        "    if c>a and c>b:\n",
        "      print(c,\"is largest\")"
      ],
      "metadata": {
        "colab": {
          "base_uri": "https://localhost:8080/"
        },
        "id": "bPm6l1rf2G_k",
        "outputId": "87a0a548-04cf-4a95-c5c6-49c67c6ef3fa"
      },
      "execution_count": 19,
      "outputs": [
        {
          "name": "stdout",
          "output_type": "stream",
          "text": [
            "Enter first number:6\n",
            "Enter second number:7\n",
            "Enter third number:8\n"
          ]
        }
      ]
    }
  ]
}