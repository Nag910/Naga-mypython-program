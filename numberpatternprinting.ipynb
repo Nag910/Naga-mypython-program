{
  "nbformat": 4,
  "nbformat_minor": 0,
  "metadata": {
    "colab": {
      "provenance": []
    },
    "kernelspec": {
      "name": "python3",
      "display_name": "Python 3"
    },
    "language_info": {
      "name": "python"
    }
  },
  "cells": [
    {
      "source": [
        "def print_pascals_triangle(num_rows):\n",
        "\n",
        "\n",
        "  for i in range(0, num_rows):\n",
        "\n",
        "    for j in range(0, num_rows - i - 1):\n",
        "      print(\" \", end=\"\")\n",
        "\n",
        "    for k in range(0, i + 1):\n",
        "\n",
        "      coefficient = 1\n",
        "      if k > 0:\n",
        "        for l in range(1, k + 1):\n",
        "          coefficient = coefficient * (i - l + 1) // l\n",
        "      print(coefficient, end=\" \")\n",
        "\n",
        "    print(\"\\n\", end=\"\")\n",
        "\n",
        "\n",
        "num_rows = int(input(\"Enter the number of rows for Pascal's triangle: \"))\n",
        "\n",
        "\n",
        "print_pascals_triangle(num_rows)"
      ],
      "cell_type": "code",
      "metadata": {
        "colab": {
          "base_uri": "https://localhost:8080/"
        },
        "id": "PK_likfLLCxv",
        "outputId": "4fb8155e-a922-4e06-cf04-7764316d1782"
      },
      "execution_count": 36,
      "outputs": [
        {
          "output_type": "stream",
          "name": "stdout",
          "text": [
            "Enter the number of rows for Pascal's triangle: 10\n",
            "         1 \n",
            "        1 1 \n",
            "       1 2 1 \n",
            "      1 3 3 1 \n",
            "     1 4 6 4 1 \n",
            "    1 5 10 10 5 1 \n",
            "   1 6 15 20 15 6 1 \n",
            "  1 7 21 35 35 21 7 1 \n",
            " 1 8 28 56 70 56 28 8 1 \n",
            "1 9 36 84 126 126 84 36 9 1 \n"
          ]
        }
      ]
    }
  ]
}