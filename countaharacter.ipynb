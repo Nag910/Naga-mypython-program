{
  "nbformat": 4,
  "nbformat_minor": 0,
  "metadata": {
    "colab": {
      "provenance": []
    },
    "kernelspec": {
      "name": "python3",
      "display_name": "Python 3"
    },
    "language_info": {
      "name": "python"
    }
  },
  "cells": [
    {
      "source": [
        "def count_characters(file_path):\n",
        "    \"\"\"Counts the number of characters in a file.\n",
        "\n",
        "    Args:\n",
        "        file_path: The path to the file.\n",
        "\n",
        "    Returns:\n",
        "        The number of characters in the file, or -1 if an error occurred.\n",
        "    \"\"\"\n",
        "    try:\n",
        "        with open(file_path, 'r') as file:\n",
        "            character_count = len(file.read())\n",
        "        return character_count\n",
        "    except FileNotFoundError:\n",
        "        print(f\"Error: File '{file_path}' not found.\")\n",
        "        return -1\n",
        "    except Exception as e:\n",
        "        print(f\"An error occurred: {e}\")\n",
        "        return -1\n",
        "\n",
        "# Get the file path from the user\n",
        "file_path = input(\"Enter the path to the file: \")\n",
        "\n",
        "# Count the characters in the file\n",
        "character_count = count_characters(file_path)\n",
        "\n",
        "# Print the result\n",
        "if character_count != -1:\n",
        "    print(f\"The file has {character_count} characters.\")"
      ],
      "cell_type": "code",
      "metadata": {
        "colab": {
          "base_uri": "https://localhost:8080/"
        },
        "id": "cYKSeMUnkTEo",
        "outputId": "02074776-3ca8-44dd-8c77-c2c82ebef1b8"
      },
      "execution_count": 10,
      "outputs": [
        {
          "output_type": "stream",
          "name": "stdout",
          "text": [
            "Enter the path to the file: 4\n",
            "Error: File '4' not found.\n"
          ]
        }
      ]
    }
  ]
}