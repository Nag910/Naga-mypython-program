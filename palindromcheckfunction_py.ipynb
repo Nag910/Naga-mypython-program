{
  "nbformat": 4,
  "nbformat_minor": 0,
  "metadata": {
    "colab": {
      "provenance": []
    },
    "kernelspec": {
      "name": "python3",
      "display_name": "Python 3"
    },
    "language_info": {
      "name": "python"
    }
  },
  "cells": [
    {
      "source": [
        "def is_palindrome(text):\n",
        "\n",
        "  processed_text = text.lower().replace(\" \", \"\")\n",
        "  return processed_text == processed_text[::-1]\n",
        "\n",
        "\n",
        "text = input(\"Enter a string: \")\n",
        "\n",
        "\n",
        "if is_palindrome(text):\n",
        "  print(f\"'{text}' is a palindrome.\")\n",
        "else:\n",
        "  print(f\"'{text}' is not a palindrome.\")"
      ],
      "cell_type": "code",
      "metadata": {
        "colab": {
          "base_uri": "https://localhost:8080/"
        },
        "id": "YGvSPNIGtR3a",
        "outputId": "1e7632da-e5b9-47f0-98eb-2237e9b37eb3"
      },
      "execution_count": 31,
      "outputs": [
        {
          "output_type": "stream",
          "name": "stdout",
          "text": [
            "Enter a string: 7\n",
            "'7' is a palindrome.\n"
          ]
        }
      ]
    }
  ]
}