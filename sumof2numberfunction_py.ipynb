{
  "nbformat": 4,
  "nbformat_minor": 0,
  "metadata": {
    "colab": {
      "provenance": []
    },
    "kernelspec": {
      "name": "python3",
      "display_name": "Python 3"
    },
    "language_info": {
      "name": "python"
    }
  },
  "cells": [
    {
      "source": [
        "def sum_of_two_numbers(a, b):\n",
        "\n",
        "  return a + b\n",
        "\n",
        "\n",
        "num1 = 5\n",
        "num2 = 10\n",
        "result = sum_of_two_numbers(num1, num2)\n",
        "print(f\"The sum of {num1} and {num2} is: {result}\")"
      ],
      "cell_type": "code",
      "metadata": {
        "colab": {
          "base_uri": "https://localhost:8080/"
        },
        "id": "pKiaM6a1mw7r",
        "outputId": "89f21d46-ee08-4637-b840-71c2f3fc6014"
      },
      "execution_count": 13,
      "outputs": [
        {
          "output_type": "stream",
          "name": "stdout",
          "text": [
            "The sum of 5 and 10 is: 15\n"
          ]
        }
      ]
    }
  ]
}