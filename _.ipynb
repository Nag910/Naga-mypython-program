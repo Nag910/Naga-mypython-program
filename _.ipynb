{
  "nbformat": 4,
  "nbformat_minor": 0,
  "metadata": {
    "colab": {
      "provenance": []
    },
    "kernelspec": {
      "name": "python3",
      "display_name": "Python 3"
    },
    "language_info": {
      "name": "python"
    }
  },
  "cells": [
    {
      "source": [
        "def print_keyword_args(**kwargs):\n",
        "\n",
        "  for key, value in kwargs.items():\n",
        "    print(f\"{key}: {value}\")\n",
        "\n",
        "\n",
        "print_keyword_args(name=\"nagashree\", age=19, city=\"New York\")"
      ],
      "cell_type": "code",
      "metadata": {
        "colab": {
          "base_uri": "https://localhost:8080/"
        },
        "id": "_tDQzOyC5tMF",
        "outputId": "67c0c3fd-fa58-470c-ebb7-143691d5fb9d"
      },
      "execution_count": 3,
      "outputs": [
        {
          "output_type": "stream",
          "name": "stdout",
          "text": [
            "name: nagashree\n",
            "age: 19\n",
            "city: New York\n"
          ]
        }
      ]
    }
  ]
}