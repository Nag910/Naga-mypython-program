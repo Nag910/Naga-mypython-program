{
  "nbformat": 4,
  "nbformat_minor": 0,
  "metadata": {
    "colab": {
      "provenance": []
    },
    "kernelspec": {
      "name": "python3",
      "display_name": "Python 3"
    },
    "language_info": {
      "name": "python"
    }
  },
  "cells": [
    {
      "cell_type": "code",
      "source": [],
      "metadata": {
        "id": "qn6k7JJpD1rz"
      },
      "execution_count": null,
      "outputs": []
    },
    {
      "source": [
        "N = int(input(\"Enter a number: \"))\n",
        "\n",
        "\n",
        "counter = N\n",
        "\n",
        "\n",
        "while counter > 0:\n",
        "    print(counter)\n",
        "    counter -= 1"
      ],
      "cell_type": "code",
      "metadata": {
        "id": "WSVF3rZNED-4"
      },
      "execution_count": null,
      "outputs": []
    }
  ]
}