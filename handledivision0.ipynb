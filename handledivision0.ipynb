{
  "nbformat": 4,
  "nbformat_minor": 0,
  "metadata": {
    "colab": {
      "provenance": []
    },
    "kernelspec": {
      "name": "python3",
      "display_name": "Python 3"
    },
    "language_info": {
      "name": "python"
    }
  },
  "cells": [
    {
      "source": [
        "def handle_division_by_zero(numerator, denominator):\n",
        "    \"\"\"Handles division by zero error.\"\"\"\n",
        "    try:\n",
        "        result = numerator / denominator\n",
        "        print(f\"Result: {result}\")\n",
        "    except ZeroDivisionError:\n",
        "        print(\"Error: Cannot divide by zero.\")\n",
        "    except Exception as e:\n",
        "        print(f\"An error occurred: {e}\")\n",
        "\n",
        "# Get input from the user\n",
        "numerator = int(input(\"Enter the numerator: \"))\n",
        "denominator = int(input(\"Enter the denominator: \"))\n",
        "\n",
        "# Perform division and handle potential errors\n",
        "handle_division_by_zero(numerator, denominator)"
      ],
      "cell_type": "code",
      "metadata": {
        "colab": {
          "base_uri": "https://localhost:8080/"
        },
        "id": "AVKoATXslR-z",
        "outputId": "10905e3d-13f7-43cb-f34f-899869661ac6"
      },
      "execution_count": 15,
      "outputs": [
        {
          "output_type": "stream",
          "name": "stdout",
          "text": [
            "Enter the numerator: 2\n",
            "Enter the denominator: 5\n",
            "Result: 0.4\n"
          ]
        }
      ]
    }
  ]
}