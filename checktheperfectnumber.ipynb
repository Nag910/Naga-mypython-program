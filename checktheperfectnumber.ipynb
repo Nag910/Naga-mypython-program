{
  "nbformat": 4,
  "nbformat_minor": 0,
  "metadata": {
    "colab": {
      "provenance": []
    },
    "kernelspec": {
      "name": "python3",
      "display_name": "Python 3"
    },
    "language_info": {
      "name": "python"
    }
  },
  "cells": [
    {
      "source": [
        "def is_perfect_number(number):\n",
        "\n",
        "    if number <= 1:\n",
        "        return False\n",
        "\n",
        "    total_sum_of_divisors = 1\n",
        "\n",
        "    for i in range(2, int(number**0.5) + 1):\n",
        "        if number % i == 0:\n",
        "            total_sum_of_divisors += i + number // i\n",
        "\n",
        "    return total_sum_of_divisors == number\n",
        "\n",
        "\n",
        "\n",
        "number = 28\n",
        "if is_perfect_number(number):\n",
        "    print(f\"{number} is a perfect number\")\n",
        "else:\n",
        "    print(f\"{number} is not a perfect number\")"
      ],
      "cell_type": "code",
      "metadata": {
        "colab": {
          "base_uri": "https://localhost:8080/"
        },
        "id": "6RhZJVfzF4xA",
        "outputId": "5f852504-29ca-4cdb-bb8c-de7cc6075e40"
      },
      "execution_count": 20,
      "outputs": [
        {
          "output_type": "stream",
          "name": "stdout",
          "text": [
            "28 is a perfect number\n"
          ]
        }
      ]
    }
  ]
}