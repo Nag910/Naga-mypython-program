{
  "nbformat": 4,
  "nbformat_minor": 0,
  "metadata": {
    "colab": {
      "provenance": []
    },
    "kernelspec": {
      "name": "python3",
      "display_name": "Python 3"
    },
    "language_info": {
      "name": "python"
    }
  },
  "cells": [
    {
      "source": [
        "def sum_of_squares(n):\n",
        "\n",
        "  total = 0\n",
        "  for i in range(1, n + 1):\n",
        "    total += i * i\n",
        "  return total\n",
        "\n",
        "N = int(input(\"Enter a positive integer: \"))\n",
        "\n",
        "result = sum_of_squares(N)\n",
        "print(f\"The sum of squares of the first {N} natural numbers is: {result}\")"
      ],
      "cell_type": "code",
      "metadata": {
        "colab": {
          "base_uri": "https://localhost:8080/"
        },
        "id": "3rQGtcxHKQjf",
        "outputId": "ad902d89-c127-48ab-d94e-5b4d8c0e75c9"
      },
      "execution_count": 33,
      "outputs": [
        {
          "output_type": "stream",
          "name": "stdout",
          "text": [
            "Enter a positive integer: 18\n",
            "The sum of squares of the first 18 natural numbers is: 2109\n"
          ]
        }
      ]
    }
  ]
}