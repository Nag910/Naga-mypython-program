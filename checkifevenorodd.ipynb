{
  "nbformat": 4,
  "nbformat_minor": 0,
  "metadata": {
    "colab": {
      "provenance": [],
      "toc_visible": true
    },
    "kernelspec": {
      "name": "python3",
      "display_name": "Python 3"
    },
    "language_info": {
      "name": "python"
    }
  },
  "cells": [
    {
      "cell_type": "code",
      "execution_count": null,
      "metadata": {
        "id": "_iisCjcQjP8m"
      },
      "outputs": [],
      "source": []
    },
    {
      "source": [
        "def is_even_or_odd(number):\n",
        "  \"\"\"Checks if a number is even or odd.\n",
        "\n",
        "  Args:\n",
        "    number: The number to check.\n",
        "\n",
        "  Returns:\n",
        "    \"Even\" if the number is even, \"Odd\" if the number is odd.\n",
        "  \"\"\"\n",
        "  if number % 2 == 0:\n",
        "    return \"Even\"\n",
        "  else:\n",
        "    return \"Odd\"\n",
        "\n",
        "# Get input from the user\n",
        "number = int(input(\"Enter a number: \"))\n",
        "\n",
        "# Check if the number is even or odd\n",
        "result = is_even_or_odd(number)\n",
        "\n",
        "# Print the result\n",
        "print(f\"The number {number} is {result}.\")"
      ],
      "cell_type": "code",
      "metadata": {
        "colab": {
          "base_uri": "https://localhost:8080/"
        },
        "id": "cMFYukwNjeUk",
        "outputId": "0725bacd-2327-4412-94a1-cf52ce1d135b"
      },
      "execution_count": 1,
      "outputs": [
        {
          "output_type": "stream",
          "name": "stdout",
          "text": [
            "Enter a number: 7\n",
            "The number 7 is Odd.\n"
          ]
        }
      ]
    }
  ]
}