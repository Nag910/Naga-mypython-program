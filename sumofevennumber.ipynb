{
  "nbformat": 4,
  "nbformat_minor": 0,
  "metadata": {
    "colab": {
      "provenance": []
    },
    "kernelspec": {
      "name": "python3",
      "display_name": "Python 3"
    },
    "language_info": {
      "name": "python"
    }
  },
  "cells": [
    {
      "source": [
        "def sum_of_even_numbers(start, end):\n",
        "\n",
        "  total = 0\n",
        "  for number in range(start, end + 1):\n",
        "    if number % 2 == 0:\n",
        "      total += number\n",
        "  return total\n",
        "\n",
        "\n",
        "\n",
        "start_range = int(input(\"Enter the starting number: \"))\n",
        "end_range = int(input(\"Enter the ending number: \"))\n",
        "\n",
        "\n",
        "even_sum = sum_of_even_numbers(start_range, end_range)\n",
        "print(f\"The sum of even numbers in the range is: {even_sum}\")"
      ],
      "cell_type": "code",
      "metadata": {
        "colab": {
          "base_uri": "https://localhost:8080/"
        },
        "id": "n5z4s_a9-wMx",
        "outputId": "c893951c-a617-4c0d-c78a-41b6eba7405b"
      },
      "execution_count": 3,
      "outputs": [
        {
          "output_type": "stream",
          "name": "stdout",
          "text": [
            "Enter the starting number: 10\n",
            "Enter the ending number: 11\n",
            "The sum of even numbers in the range is: 10\n"
          ]
        }
      ]
    }
  ]
}