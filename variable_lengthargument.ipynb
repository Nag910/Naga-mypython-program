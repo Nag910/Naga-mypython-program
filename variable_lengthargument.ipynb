{
  "nbformat": 4,
  "nbformat_minor": 0,
  "metadata": {
    "colab": {
      "provenance": []
    },
    "kernelspec": {
      "name": "python3",
      "display_name": "Python 3"
    },
    "language_info": {
      "name": "python"
    }
  },
  "cells": [
    {
      "source": [
        "def greet(*names):\n",
        "  \"\"\"Greets all people in the names tuple.\"\"\"\n",
        "  for name in names:\n",
        "    print(f\"Hello, {name}!\")\n",
        "\n",
        "\n",
        "greet(\"nagashree\", \"sanjana\", \"pooja\")\n",
        "greet(\"likitha\", \"lonika\")"
      ],
      "cell_type": "code",
      "metadata": {
        "colab": {
          "base_uri": "https://localhost:8080/"
        },
        "id": "_-IxywkZq0oA",
        "outputId": "3d6187d3-6147-4d93-b8ca-7cc8c006c2eb"
      },
      "execution_count": 20,
      "outputs": [
        {
          "output_type": "stream",
          "name": "stdout",
          "text": [
            "Hello, nagashree!\n",
            "Hello, sanjana!\n",
            "Hello, pooja!\n",
            "Hello, likitha!\n",
            "Hello, lonika!\n"
          ]
        }
      ]
    }
  ]
}