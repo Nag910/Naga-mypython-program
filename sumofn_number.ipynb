{
  "nbformat": 4,
  "nbformat_minor": 0,
  "metadata": {
    "colab": {
      "provenance": [],
      "toc_visible": true
    },
    "kernelspec": {
      "name": "python3",
      "display_name": "Python 3"
    },
    "language_info": {
      "name": "python"
    }
  },
  "cells": [
    {
      "cell_type": "code",
      "execution_count": 5,
      "metadata": {
        "colab": {
          "base_uri": "https://localhost:8080/"
        },
        "id": "_iisCjcQjP8m",
        "outputId": "ca870faf-c704-4554-d89e-0963de548db4"
      },
      "outputs": [
        {
          "output_type": "stream",
          "name": "stdout",
          "text": [
            "enter start range1\n",
            "enter end range4\n",
            "1\n",
            "3\n",
            "6\n",
            "10\n"
          ]
        }
      ],
      "source": [
        "a=int(input(\"enter start range\"))\n",
        "b=int(input(\"enter end range\"))\n",
        "sum=0\n",
        "for i in range(a,b+1):\n",
        "  sum=sum+i\n",
        "  print(sum)"
      ]
    }
  ]
}