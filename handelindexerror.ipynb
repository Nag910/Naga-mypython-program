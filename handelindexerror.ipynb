{
  "nbformat": 4,
  "nbformat_minor": 0,
  "metadata": {
    "colab": {
      "provenance": []
    },
    "kernelspec": {
      "name": "python3",
      "display_name": "Python 3"
    },
    "language_info": {
      "name": "python"
    }
  },
  "cells": [
    {
      "source": [
        "def handle_index_error(data, index):\n",
        "    \"\"\"Handles IndexError when accessing an invalid index in a list.\"\"\"\n",
        "    try:\n",
        "        value = data[index]\n",
        "        print(f\"Value at index {index}: {value}\")\n",
        "    except IndexError:\n",
        "        print(f\"Error: Invalid index {index}. List index out of range.\")\n",
        "    except Exception as e:\n",
        "        print(f\"An error occurred: {e}\")\n",
        "\n",
        "# Example usage:\n",
        "data = [10, 20, 30]\n",
        "index = 5  # Invalid index\n",
        "\n",
        "handle_index_error(data, index)"
      ],
      "cell_type": "code",
      "metadata": {
        "colab": {
          "base_uri": "https://localhost:8080/"
        },
        "id": "SQ8ulkFZqjmc",
        "outputId": "cf54b1df-6b47-498b-d3aa-91aa35a08b07"
      },
      "execution_count": 24,
      "outputs": [
        {
          "output_type": "stream",
          "name": "stdout",
          "text": [
            "Error: Invalid index 5. List index out of range.\n"
          ]
        }
      ]
    }
  ]
}