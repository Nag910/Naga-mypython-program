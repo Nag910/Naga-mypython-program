{
  "nbformat": 4,
  "nbformat_minor": 0,
  "metadata": {
    "colab": {
      "provenance": []
    },
    "kernelspec": {
      "name": "python3",
      "display_name": "Python 3"
    },
    "language_info": {
      "name": "python"
    }
  },
  "cells": [
    {
      "source": [
        "def sum_digits(number):\n",
        "\n",
        "  sum_of_digits = 0\n",
        "  while number > 0:\n",
        "    digit = number % 10\n",
        "    sum_of_digits += digit\n",
        "    number //= 10\n",
        "  return sum_of_digits\n",
        "\n",
        "\n",
        "number = int(input(\"Enter a number: \"))\n",
        "\n",
        "\n",
        "result = sum_digits(number)\n",
        "\n",
        "\n",
        "print(\"The sum of digits is:\", result)"
      ],
      "cell_type": "code",
      "metadata": {
        "colab": {
          "base_uri": "https://localhost:8080/"
        },
        "id": "SrcgK6c4BY9r",
        "outputId": "157b360c-2ef8-4807-e6aa-abf57646629e"
      },
      "execution_count": 15,
      "outputs": [
        {
          "output_type": "stream",
          "name": "stdout",
          "text": [
            "Enter a number: 110\n",
            "The sum of digits is: 2\n"
          ]
        }
      ]
    }
  ]
}