{
  "nbformat": 4,
  "nbformat_minor": 0,
  "metadata": {
    "colab": {
      "provenance": []
    },
    "kernelspec": {
      "name": "python3",
      "display_name": "Python 3"
    },
    "language_info": {
      "name": "python"
    }
  },
  "cells": [
    {
      "source": [
        "def is_armstrong_number(number):\n",
        "\n",
        "  num_str = str(number)\n",
        "  num_digits = len(num_str)\n",
        "  sum_of_powers = sum(int(digit)**num_digits for digit in num_str)\n",
        "  return sum_of_powers == number\n",
        "\n",
        "\n",
        "number = int(input(\"Enter a number: \"))\n",
        "\n",
        "\n",
        "if is_armstrong_number(number):\n",
        "  print(number, \"is an Armstrong number\")\n",
        "else:\n",
        "  print(number, \"is not an Armstrong number\")"
      ],
      "cell_type": "code",
      "metadata": {
        "id": "5rEE5itKCUX6"
      },
      "execution_count": null,
      "outputs": []
    }
  ]
}