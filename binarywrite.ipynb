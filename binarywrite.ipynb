{
  "nbformat": 4,
  "nbformat_minor": 0,
  "metadata": {
    "colab": {
      "provenance": []
    },
    "kernelspec": {
      "name": "python3",
      "display_name": "Python 3"
    },
    "language_info": {
      "name": "python"
    }
  },
  "cells": [
    {
      "source": [
        "def read_and_write_binary(input_file, output_file):\n",
        "    \"\"\"Reads and writes binary data from/to a file.\"\"\"\n",
        "    try:\n",
        "        with open(input_file, 'rb') as infile, open(output_file, 'wb') as outfile:\n",
        "            binary_data = infile.read()\n",
        "            outfile.write(binary_data)\n",
        "        print(f\"Binary data read from '{input_file}' and written to '{output_file}' successfully.\")\n",
        "    except FileNotFoundError:\n",
        "        print(f\"Error: File '{input_file}' not found.\")\n",
        "    except Exception as e:\n",
        "        print(f\"An error occurred: {e}\")\n",
        "\n",
        "# Example usage:\n",
        "input_file = \"input.bin\"  # Replace with your input file path\n",
        "output_file = \"output.bin\"  # Replace with your output file path\n",
        "\n",
        "read_and_write_binary(input_file, output_file)"
      ],
      "cell_type": "code",
      "metadata": {
        "id": "YB3QpRpsqQhH",
        "outputId": "008df467-1509-46bc-805f-fc0aa4c621e6",
        "colab": {
          "base_uri": "https://localhost:8080/"
        }
      },
      "execution_count": 22,
      "outputs": [
        {
          "output_type": "stream",
          "name": "stdout",
          "text": [
            "Error: File 'input.bin' not found.\n"
          ]
        }
      ]
    }
  ]
}