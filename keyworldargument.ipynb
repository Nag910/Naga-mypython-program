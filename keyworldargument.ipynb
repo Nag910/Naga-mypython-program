{
  "nbformat": 4,
  "nbformat_minor": 0,
  "metadata": {
    "colab": {
      "provenance": []
    },
    "kernelspec": {
      "name": "python3",
      "display_name": "Python 3"
    },
    "language_info": {
      "name": "python"
    }
  },
  "cells": [
    {
      "cell_type": "code",
      "source": [],
      "metadata": {
        "id": "NI5C-JlWne1a"
      },
      "execution_count": null,
      "outputs": []
    },
    {
      "source": [
        "def describe_pet(animal_type, pet_name):\n",
        "  print(f\"\\nI have a {animal_type}.\")\n",
        "  print(f\"My {animal_type}'s name is {pet_name}.\")\n",
        "\n",
        "describe_pet(\"hamster\", \"Harry\")\n",
        "describe_pet(pet_name=\"Harry\", animal_type=\"hamster\")"
      ],
      "cell_type": "code",
      "metadata": {
        "colab": {
          "base_uri": "https://localhost:8080/"
        },
        "id": "t70BnrmTn_5C",
        "outputId": "79e2b773-68e1-419c-becf-5c9bd9dfa6e5"
      },
      "execution_count": 16,
      "outputs": [
        {
          "output_type": "stream",
          "name": "stdout",
          "text": [
            "\n",
            "I have a hamster.\n",
            "My hamster's name is Harry.\n",
            "\n",
            "I have a hamster.\n",
            "My hamster's name is Harry.\n"
          ]
        }
      ]
    }
  ]
}